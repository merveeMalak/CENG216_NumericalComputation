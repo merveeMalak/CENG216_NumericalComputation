{
 "cells": [
  {
   "cell_type": "markdown",
   "metadata": {},
   "source": [
    "# FIXED POINT ITERATION (SOLVING EQUATION)"
   ]
  },
  {
   "cell_type": "code",
   "execution_count": 1,
   "metadata": {},
   "outputs": [],
   "source": [
    "def f(x):\n",
    "    return (1+2*x**3)/(3*x**2+1)"
   ]
  },
  {
   "cell_type": "code",
   "execution_count": 2,
   "metadata": {},
   "outputs": [],
   "source": [
    "def fixed_point_iteration(x0):\n",
    "    initial_point = x0\n",
    "    for i in range(25):\n",
    "        print(\"i=\",i)\n",
    "        print(\"xi= {:.8f}\".format(initial_point))\n",
    "        initial_point = round(f(initial_point),8)\n",
    "        "
   ]
  },
  {
   "cell_type": "code",
   "execution_count": 13,
   "metadata": {},
   "outputs": [
    {
     "name": "stdout",
     "output_type": "stream",
     "text": [
      "i= 0\n",
      "xi= 0.50000000\n",
      "i= 1\n",
      "xi= 0.71428571\n",
      "i= 2\n",
      "xi= 0.68317972\n",
      "i= 3\n",
      "xi= 0.68232842\n",
      "i= 4\n",
      "xi= 0.68232780\n",
      "i= 5\n",
      "xi= 0.68232780\n",
      "i= 6\n",
      "xi= 0.68232780\n",
      "i= 7\n",
      "xi= 0.68232780\n",
      "i= 8\n",
      "xi= 0.68232780\n",
      "i= 9\n",
      "xi= 0.68232780\n",
      "i= 10\n",
      "xi= 0.68232780\n",
      "i= 11\n",
      "xi= 0.68232780\n",
      "i= 12\n",
      "xi= 0.68232780\n",
      "i= 13\n",
      "xi= 0.68232780\n",
      "i= 14\n",
      "xi= 0.68232780\n",
      "i= 15\n",
      "xi= 0.68232780\n",
      "i= 16\n",
      "xi= 0.68232780\n",
      "i= 17\n",
      "xi= 0.68232780\n",
      "i= 18\n",
      "xi= 0.68232780\n",
      "i= 19\n",
      "xi= 0.68232780\n",
      "i= 20\n",
      "xi= 0.68232780\n",
      "i= 21\n",
      "xi= 0.68232780\n",
      "i= 22\n",
      "xi= 0.68232780\n",
      "i= 23\n",
      "xi= 0.68232780\n",
      "i= 24\n",
      "xi= 0.68232780\n"
     ]
    }
   ],
   "source": [
    "fixed_point_iteration(0.5)"
   ]
  },
  {
   "cell_type": "code",
   "execution_count": null,
   "metadata": {},
   "outputs": [],
   "source": []
  }
 ],
 "metadata": {
  "kernelspec": {
   "display_name": "Python 3",
   "language": "python",
   "name": "python3"
  },
  "language_info": {
   "codemirror_mode": {
    "name": "ipython",
    "version": 3
   },
   "file_extension": ".py",
   "mimetype": "text/x-python",
   "name": "python",
   "nbconvert_exporter": "python",
   "pygments_lexer": "ipython3",
   "version": "3.8.5"
  }
 },
 "nbformat": 4,
 "nbformat_minor": 2
}
