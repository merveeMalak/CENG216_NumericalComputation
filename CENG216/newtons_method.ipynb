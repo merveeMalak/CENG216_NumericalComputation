{
 "cells": [
  {
   "cell_type": "code",
   "execution_count": 1,
   "metadata": {},
   "outputs": [],
   "source": [
    "def f(x):\n",
    "    return x**3 + x -1\n",
    "def f_derivative(x):\n",
    "    return 3*x**2 + 1\n",
    "def f_newton(x):\n",
    "    return x - f(x)/f_derivative(x)"
   ]
  },
  {
   "cell_type": "code",
   "execution_count": 2,
   "metadata": {},
   "outputs": [],
   "source": [
    "def newtons_method(x0):\n",
    "    initial_point = x0\n",
    "    for i in range(25):\n",
    "        print(i)\n",
    "        print(\"xi= {:.}\")\n",
    "        initial_point = f_newton(initial_point)\n",
    "        "
   ]
  },
  {
   "cell_type": "code",
   "execution_count": 3,
   "metadata": {},
   "outputs": [],
   "source": [
    "from sympy import *\n",
    "x,h = symbols('x,h')\n",
    "expr = exp(sin(exp(x)*cos(x)*ln(x))) -1\n",
    "diff_expr = diff(expr,x)\n",
    "f_turev = (exp(x+h)-exp(x))/(h)"
   ]
  },
  {
   "cell_type": "code",
   "execution_count": 4,
   "metadata": {},
   "outputs": [
    {
     "data": {
      "text/latex": [
       "$\\displaystyle \\left(- e^{x} \\log{\\left(x \\right)} \\sin{\\left(x \\right)} + e^{x} \\log{\\left(x \\right)} \\cos{\\left(x \\right)} + \\frac{e^{x} \\cos{\\left(x \\right)}}{x}\\right) e^{\\sin{\\left(e^{x} \\log{\\left(x \\right)} \\cos{\\left(x \\right)} \\right)}} \\cos{\\left(e^{x} \\log{\\left(x \\right)} \\cos{\\left(x \\right)} \\right)}$"
      ],
      "text/plain": [
       "(-exp(x)*log(x)*sin(x) + exp(x)*log(x)*cos(x) + exp(x)*cos(x)/x)*exp(sin(exp(x)*log(x)*cos(x)))*cos(exp(x)*log(x)*cos(x))"
      ]
     },
     "execution_count": 4,
     "metadata": {},
     "output_type": "execute_result"
    }
   ],
   "source": [
    "diff_expr"
   ]
  },
  {
   "cell_type": "code",
   "execution_count": 5,
   "metadata": {},
   "outputs": [
    {
     "data": {
      "text/latex": [
       "$\\displaystyle e^{\\sin{\\left(e^{x} \\log{\\left(x \\right)} \\cos{\\left(x \\right)} \\right)}} - 1$"
      ],
      "text/plain": [
       "exp(sin(exp(x)*log(x)*cos(x))) - 1"
      ]
     },
     "execution_count": 5,
     "metadata": {},
     "output_type": "execute_result"
    }
   ],
   "source": [
    "expr"
   ]
  },
  {
   "cell_type": "code",
   "execution_count": 6,
   "metadata": {
    "scrolled": true
   },
   "outputs": [
    {
     "data": {
      "text/latex": [
       "$\\displaystyle \\frac{- e^{x} + e^{h + x}}{h}$"
      ],
      "text/plain": [
       "(-exp(x) + exp(h + x))/h"
      ]
     },
     "execution_count": 6,
     "metadata": {},
     "output_type": "execute_result"
    }
   ],
   "source": [
    "f_turev"
   ]
  },
  {
   "cell_type": "code",
   "execution_count": 15,
   "metadata": {},
   "outputs": [],
   "source": [
    "f_newton = x - (expr/f_turev)"
   ]
  },
  {
   "cell_type": "code",
   "execution_count": 16,
   "metadata": {},
   "outputs": [
    {
     "data": {
      "text/latex": [
       "$\\displaystyle - \\frac{h \\left(e^{\\sin{\\left(e^{x} \\log{\\left(x \\right)} \\cos{\\left(x \\right)} \\right)}} - 1\\right)}{- e^{x} + e^{h + x}} + x$"
      ],
      "text/plain": [
       "-h*(exp(sin(exp(x)*log(x)*cos(x))) - 1)/(-exp(x) + exp(h + x)) + x"
      ]
     },
     "execution_count": 16,
     "metadata": {},
     "output_type": "execute_result"
    }
   ],
   "source": [
    "f_newton"
   ]
  },
  {
   "cell_type": "code",
   "execution_count": 21,
   "metadata": {},
   "outputs": [],
   "source": [
    "def newtons_method1():\n",
    "    initial_point = 0.6\n",
    "    step_size = 10**-6\n",
    "    for i in range(25):\n",
    "        print(\"x{}= {:.6f}\".format(i,initial_point))\n",
    "        initial_point = f_newton.subs([(x,initial_point), (h,step_size)])"
   ]
  },
  {
   "cell_type": "code",
   "execution_count": 22,
   "metadata": {},
   "outputs": [
    {
     "name": "stdout",
     "output_type": "stream",
     "text": [
      "x0= 0.600000\n",
      "x1= 0.874872\n",
      "x2= 0.951847\n",
      "x3= 0.979419\n",
      "x4= 0.990834\n",
      "x5= 0.995846\n",
      "x6= 0.998103\n",
      "x7= 0.999130\n",
      "x8= 0.999601\n",
      "x9= 0.999817\n",
      "x10= 0.999916\n",
      "x11= 0.999961\n",
      "x12= 0.999982\n",
      "x13= 0.999992\n",
      "x14= 0.999996\n",
      "x15= 0.999998\n",
      "x16= 0.999999\n",
      "x17= 1.000000\n",
      "x18= 1.000000\n",
      "x19= 1.000000\n",
      "x20= 1.000000\n",
      "x21= 1.000000\n",
      "x22= 1.000000\n",
      "x23= 1.000000\n",
      "x24= 1.000000\n"
     ]
    }
   ],
   "source": [
    "newtons_method1()"
   ]
  },
  {
   "cell_type": "code",
   "execution_count": null,
   "metadata": {},
   "outputs": [],
   "source": []
  }
 ],
 "metadata": {
  "kernelspec": {
   "display_name": "Python 3",
   "language": "python",
   "name": "python3"
  },
  "language_info": {
   "codemirror_mode": {
    "name": "ipython",
    "version": 3
   },
   "file_extension": ".py",
   "mimetype": "text/x-python",
   "name": "python",
   "nbconvert_exporter": "python",
   "pygments_lexer": "ipython3",
   "version": "3.8.5"
  }
 },
 "nbformat": 4,
 "nbformat_minor": 2
}
