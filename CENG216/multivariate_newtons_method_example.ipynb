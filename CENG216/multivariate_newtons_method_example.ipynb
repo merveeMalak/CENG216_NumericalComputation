{
 "cells": [
  {
   "cell_type": "markdown",
   "metadata": {},
   "source": [
    "# Multivariate Newton's Method"
   ]
  },
  {
   "cell_type": "code",
   "execution_count": 1,
   "metadata": {},
   "outputs": [],
   "source": [
    "import numpy as np"
   ]
  },
  {
   "cell_type": "code",
   "execution_count": null,
   "metadata": {},
   "outputs": [],
   "source": [
    "def f(x):\n",
    "    f1 = 2* x[0] + 3* x[1]**2\n",
    "    f2 = x[0]**2 + x[1]**2 - 1.0\n",
    "    return  np.float64([f1, f2])"
   ]
  },
  {
   "cell_type": "code",
   "execution_count": 3,
   "metadata": {},
   "outputs": [
    {
     "data": {
      "text/plain": [
       "(array([1., 2.]), array([1., 4.]))"
      ]
     },
     "execution_count": 3,
     "metadata": {},
     "output_type": "execute_result"
    }
   ],
   "source": [
    "x0 = np.float64([1, 2])\n",
    "x0, f(x0)"
   ]
  },
  {
   "cell_type": "code",
   "execution_count": 4,
   "metadata": {},
   "outputs": [],
   "source": [
    "def Jf(x):\n",
    "    return np.float64([[-3.0*x[0]**2, 1],[2.0*x[0], 2.0*x[1]]])"
   ]
  },
  {
   "cell_type": "code",
   "execution_count": 5,
   "metadata": {},
   "outputs": [
    {
     "data": {
      "text/plain": [
       "array([[-3.,  1.],\n",
       "       [ 2.,  4.]])"
      ]
     },
     "execution_count": 5,
     "metadata": {},
     "output_type": "execute_result"
    }
   ],
   "source": [
    "Jf(x0)"
   ]
  },
  {
   "cell_type": "code",
   "execution_count": 7,
   "metadata": {},
   "outputs": [
    {
     "name": "stdout",
     "output_type": "stream",
     "text": [
      "i= 0\n",
      "x-->\n",
      " [0.82603136 0.56362416]\n",
      "f(x)-->\n",
      " [-1.89749327e-10  9.58302326e-11]\n",
      "Jf(x)-->\n",
      " [[-2.04698341  1.        ]\n",
      " [ 1.65206272  1.12724832]]\n",
      "i= 1\n",
      "x-->\n",
      " [0.82603136 0.56362416]\n",
      "f(x)-->\n",
      " [-1.11022302e-16  0.00000000e+00]\n",
      "Jf(x)-->\n",
      " [[-2.04698341  1.        ]\n",
      " [ 1.65206272  1.12724832]]\n",
      "i= 2\n",
      "x-->\n",
      " [0.82603136 0.56362416]\n",
      "f(x)-->\n",
      " [-1.11022302e-16  0.00000000e+00]\n",
      "Jf(x)-->\n",
      " [[-2.04698341  1.        ]\n",
      " [ 1.65206272  1.12724832]]\n",
      "i= 3\n",
      "x-->\n",
      " [0.82603136 0.56362416]\n",
      "f(x)-->\n",
      " [-1.11022302e-16  0.00000000e+00]\n",
      "Jf(x)-->\n",
      " [[-2.04698341  1.        ]\n",
      " [ 1.65206272  1.12724832]]\n",
      "i= 4\n",
      "x-->\n",
      " [0.82603136 0.56362416]\n",
      "f(x)-->\n",
      " [-1.11022302e-16  0.00000000e+00]\n",
      "Jf(x)-->\n",
      " [[-2.04698341  1.        ]\n",
      " [ 1.65206272  1.12724832]]\n"
     ]
    }
   ],
   "source": [
    "x = x0\n",
    "for i in range(5):\n",
    "    print(\"i=\",i)\n",
    "    print(\"x-->\\n\",x)\n",
    "    print(\"f(x)-->\\n\",f(x))\n",
    "    print(\"Jf(x)-->\\n\",Jf(x))\n",
    "    delta_k = np.linalg.solve(Jf(x), -f(x))\n",
    "    x += delta_k\n"
   ]
  },
  {
   "cell_type": "code",
   "execution_count": null,
   "metadata": {},
   "outputs": [],
   "source": []
  },
  {
   "cell_type": "code",
   "execution_count": null,
   "metadata": {},
   "outputs": [],
   "source": []
  }
 ],
 "metadata": {
  "kernelspec": {
   "display_name": "Python 3",
   "language": "python",
   "name": "python3"
  },
  "language_info": {
   "codemirror_mode": {
    "name": "ipython",
    "version": 3
   },
   "file_extension": ".py",
   "mimetype": "text/x-python",
   "name": "python",
   "nbconvert_exporter": "python",
   "pygments_lexer": "ipython3",
   "version": "3.8.5"
  }
 },
 "nbformat": 4,
 "nbformat_minor": 5
}
