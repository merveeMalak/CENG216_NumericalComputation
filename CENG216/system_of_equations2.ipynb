{
 "cells": [
  {
   "cell_type": "markdown",
   "metadata": {},
   "source": [
    "# SYSTEM OF EQUATIONS"
   ]
  },
  {
   "cell_type": "code",
   "execution_count": 11,
   "metadata": {},
   "outputs": [],
   "source": [
    "import numpy as np\n",
    "import math"
   ]
  },
  {
   "cell_type": "code",
   "execution_count": 12,
   "metadata": {},
   "outputs": [],
   "source": [
    "def return_matrix():\n",
    "    matrix = np.float64([[4,2,-1],[2,6,-3],[-8,-9,9]])\n",
    "    return matrix\n",
    "def return_b():\n",
    "    matrix_b = np.float64([-1,-8,14])\n",
    "    return matrix_b\n",
    "def return_approotmatrix():\n",
    "    xa =  np.float64([-1,1,1])\n",
    "    return xa"
   ]
  },
  {
   "cell_type": "code",
   "execution_count": 13,
   "metadata": {},
   "outputs": [],
   "source": [
    "def matrix_norm1(matrix):\n",
    "    if abs(matrix[0])> abs(matrix[1]) and (abs(matrix[0]) > abs(matrix[2])):\n",
    "        norm = abs(matrix[0])\n",
    "    elif abs(matrix[1])> abs(matrix[0]) and (abs(matrix[1]) > abs(matrix[2])):\n",
    "        norm = abs(matrix[1])\n",
    "    else:\n",
    "        norm = abs(matrix[2])\n",
    "    return norm\n",
    "\n",
    "def matrix_norm2(matrix):\n",
    "    norm = 0\n",
    "    row_sum = 0\n",
    "    for i in range(3):\n",
    "        for j in range(3):\n",
    "            row_sum += abs(matrix[i][j])\n",
    "        if row_sum > norm:\n",
    "            norm = row_sum\n",
    "        row_sum = 0\n",
    "    return norm"
   ]
  },
  {
   "cell_type": "code",
   "execution_count": 14,
   "metadata": {},
   "outputs": [],
   "source": [
    "def matrix_inverse(matrix):\n",
    "    matrix_inverse = np.linalg.inv(matrix)\n",
    "    print(\"Inverse matrix = \", matrix_inverse)\n",
    "    return (matrix_inverse)\n"
   ]
  },
  {
   "cell_type": "code",
   "execution_count": 15,
   "metadata": {},
   "outputs": [],
   "source": [
    "def matrix_condition_number(matrix):\n",
    "    \n",
    "    matrix_inv = matrix_inverse(matrix)\n",
    "    print(\"Inverse A=\\n\", matrix_inv)\n",
    "    A_norm = matrix_norm2(matrix)\n",
    "    print(\"A norm = \", A_norm)\n",
    "    A_inv_norm = matrix_norm2(matrix_inv)\n",
    "    print(\"Inverse A norm = \", A_inv_norm)\n",
    "    condition_number =  A_norm * A_inv_norm\n",
    "    print(\"Condition number = \", condition_number)\n",
    "    return (condition_number)"
   ]
  },
  {
   "cell_type": "code",
   "execution_count": 16,
   "metadata": {},
   "outputs": [],
   "source": [
    "def matrix_solve(matrix,b):\n",
    "    matrix_solve = np.linalg.solve(matrix,b)\n",
    "    print(\"Roots x = \\n\", matrix_solve)\n",
    "    return matrix_solve"
   ]
  },
  {
   "cell_type": "code",
   "execution_count": 17,
   "metadata": {},
   "outputs": [],
   "source": [
    "def backward_error():\n",
    "    A = return_matrix()\n",
    "    b = return_b()\n",
    "    xa = return_approotmatrix()\n",
    "    mult_Axa = np.matmul(A,xa)\n",
    "    print(\"A*xa =\\n\",mult_Axa)\n",
    "    b_Axa = b- mult_Axa #b-A*xa\n",
    "    print(\"b - A*xa =\\n\", b_Axa)\n",
    "    backward_error = matrix_norm1(b_Axa)\n",
    "    print(\"backward error= \",backward_error)\n",
    "    return backward_error\n",
    "def relative_backward_error():\n",
    "    backwardError = backward_error()\n",
    "    b_norm  = matrix_norm1(return_b())\n",
    "    print(\"B norm = \", b_norm)\n",
    "    relativeBackwardError = backwardError/b_norm\n",
    "    print(\"Relative Backward Error = \",relativeBackwardError)\n",
    "    return relativeBackwardError"
   ]
  },
  {
   "cell_type": "code",
   "execution_count": null,
   "metadata": {},
   "outputs": [],
   "source": []
  },
  {
   "cell_type": "code",
   "execution_count": 18,
   "metadata": {},
   "outputs": [],
   "source": [
    "def forward_error():\n",
    "    xa = return_approotmatrix()\n",
    "    x = matrix_solve(return_matrix(),return_b())\n",
    "    x_xa = x - xa\n",
    "    print(\"x-xa=\\n\", x_xa)\n",
    "    forwardError = matrix_norm1(x_xa)\n",
    "    print(\"Forward Error = \", forwardError)\n",
    "    return forwardError\n",
    "def relative_forward_error():\n",
    "    forwardError = forward_error()\n",
    "    x_norm = matrix_norm1(matrix_solve(return_matrix(),return_b()))\n",
    "    print(\"x Norm = \", x_norm)\n",
    "    relativeForwardError = forwardError/x_norm\n",
    "    print(\"Relative forward error = \", relativeForwardError)\n",
    "    return relativeForwardError"
   ]
  },
  {
   "cell_type": "code",
   "execution_count": 19,
   "metadata": {},
   "outputs": [],
   "source": [
    "def error_magnification_factor():\n",
    "    A = return_matrix()\n",
    "    print(\"A:\\n\",A)\n",
    "    b = return_b()\n",
    "    print(\"b:\\n\",b)\n",
    "    xa = return_approotmatrix()\n",
    "    print(\"xa:\\n\",xa)\n",
    "    emf = relative_forward_error()/relative_backward_error()\n",
    "    print(\"Error magnification factor = \", emf)\n",
    "    return emf"
   ]
  },
  {
   "cell_type": "code",
   "execution_count": 20,
   "metadata": {
    "scrolled": false
   },
   "outputs": [
    {
     "name": "stdout",
     "output_type": "stream",
     "text": [
      "A:\n",
      " [[ 4.  2. -1.]\n",
      " [ 2.  6. -3.]\n",
      " [-8. -9.  9.]]\n",
      "b:\n",
      " [-1. -8. 14.]\n",
      "xa:\n",
      " [-1.  1.  1.]\n",
      "Roots x = \n",
      " [ 0.5 -1.   1. ]\n",
      "x-xa=\n",
      " [ 1.5 -2.   0. ]\n",
      "Forward Error =  2.0\n",
      "Roots x = \n",
      " [ 0.5 -1.   1. ]\n",
      "x Norm =  1.0\n",
      "Relative forward error =  2.0\n",
      "A*xa =\n",
      " [-3.  1.  8.]\n",
      "b - A*xa =\n",
      " [ 2. -9.  6.]\n",
      "backward error=  9.0\n",
      "B norm =  14.0\n",
      "Relative Backward Error =  0.6428571428571429\n",
      "Error magnification factor =  3.1111111111111107\n"
     ]
    },
    {
     "data": {
      "text/plain": [
       "3.1111111111111107"
      ]
     },
     "execution_count": 20,
     "metadata": {},
     "output_type": "execute_result"
    }
   ],
   "source": [
    "error_magnification_factor()"
   ]
  },
  {
   "cell_type": "code",
   "execution_count": 21,
   "metadata": {},
   "outputs": [],
   "source": [
    "def f(x):\n",
    "    return (1 + 2* math.cos(x) + math.cos(x)**2) *( 2 * math.sin(x)*math.cos(x))"
   ]
  },
  {
   "cell_type": "code",
   "execution_count": 43,
   "metadata": {},
   "outputs": [
    {
     "data": {
      "text/plain": [
       "2.0799790471054997"
      ]
     },
     "execution_count": 43,
     "metadata": {},
     "output_type": "execute_result"
    }
   ],
   "source": [
    "f(45)"
   ]
  },
  {
   "cell_type": "code",
   "execution_count": null,
   "metadata": {},
   "outputs": [],
   "source": []
  }
 ],
 "metadata": {
  "kernelspec": {
   "display_name": "Python 3",
   "language": "python",
   "name": "python3"
  },
  "language_info": {
   "codemirror_mode": {
    "name": "ipython",
    "version": 3
   },
   "file_extension": ".py",
   "mimetype": "text/x-python",
   "name": "python",
   "nbconvert_exporter": "python",
   "pygments_lexer": "ipython3",
   "version": "3.8.5"
  }
 },
 "nbformat": 4,
 "nbformat_minor": 2
}
