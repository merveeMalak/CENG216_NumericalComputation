{
 "cells": [
  {
   "cell_type": "code",
   "execution_count": 38,
   "metadata": {},
   "outputs": [],
   "source": [
    "import numpy as np\n",
    "from scipy.linalg import lu"
   ]
  },
  {
   "cell_type": "code",
   "execution_count": 44,
   "metadata": {},
   "outputs": [],
   "source": [
    "def return_matrix():\n",
    "    matrix = np.float64([[4,2,-1],[2,6,-3],[-8,-9,9]])\n",
    "    return matrix\n",
    "def return_b():\n",
    "    b = np.array([-1,-8,14])\n",
    "    return b\n",
    "def return_l():\n",
    "    l = np.float64([[1,0,0],[0.5,1,0],[-2,-1,1]])\n",
    "    return l\n",
    "def return_u():\n",
    "    u = np.float64([[4,2,-1],[0,5,-2.5],[0,0,4.5]])\n",
    "    return u"
   ]
  },
  {
   "cell_type": "code",
   "execution_count": 45,
   "metadata": {},
   "outputs": [],
   "source": [
    "def PLU_matrix(matrix,b_mat):\n",
    "    P,L,U = lu(matrix)\n",
    "    print(\"P--->\\n\", P)\n",
    "    print(\"L--->\\n\", L)\n",
    "    print(\"U--->\\n\", U)\n",
    "    b = P.dot(b_mat) \n",
    "    print(\"P*b-->\\n\", b )\n",
    "    c = np.linalg.solve(L,b)\n",
    "    print(\"L*c = P*b--> c:\\n\",c)\n",
    "    x = np.linalg.solve(U,c)\n",
    "    print(\"U*x = c --> x:\\n\",x)\n",
    "    "
   ]
  },
  {
   "cell_type": "code",
   "execution_count": 46,
   "metadata": {},
   "outputs": [],
   "source": [
    "def LU_matrix(matrix ,b_mat, l_mat, u_mat):\n",
    "    a = matrix\n",
    "    b = b_mat\n",
    "    l = l_mat\n",
    "    u = u_mat\n",
    "    x = np.linalg.solve(a, b)\n",
    "    print(\"genel çözüm x:\", x)\n",
    "    c = np.linalg.solve(l,b)\n",
    "    print(\"LxC= B: c--> \",c)\n",
    "    d = np.linalg.solve(u,c)\n",
    "    print(\"U*x=c: x--> \",d)"
   ]
  },
  {
   "cell_type": "code",
   "execution_count": 47,
   "metadata": {},
   "outputs": [
    {
     "name": "stdout",
     "output_type": "stream",
     "text": [
      "P--->\n",
      " [[0. 0. 1.]\n",
      " [0. 1. 0.]\n",
      " [1. 0. 0.]]\n",
      "L--->\n",
      " [[ 1.          0.          0.        ]\n",
      " [-0.25        1.          0.        ]\n",
      " [-0.5        -0.66666667  1.        ]]\n",
      "U--->\n",
      " [[-8.   -9.    9.  ]\n",
      " [ 0.    3.75 -0.75]\n",
      " [ 0.    0.    3.  ]]\n",
      "P*b-->\n",
      " [14. -8. -1.]\n",
      "L*c = P*b--> c:\n",
      " [14.  -4.5  3. ]\n",
      "U*x = c --> x:\n",
      " [ 0.5 -1.   1. ]\n"
     ]
    }
   ],
   "source": [
    "PLU_matrix(return_matrix(),return_b())"
   ]
  },
  {
   "cell_type": "code",
   "execution_count": 48,
   "metadata": {},
   "outputs": [
    {
     "name": "stdout",
     "output_type": "stream",
     "text": [
      "genel çözüm x: [ 0.5 -1.   1. ]\n",
      "LxC= B: c-->  [-1.  -7.5  4.5]\n",
      "U*x=c: x-->  [ 0.5 -1.   1. ]\n"
     ]
    }
   ],
   "source": [
    "LU_matrix(return_matrix(),return_b(), return_l(), return_u())"
   ]
  },
  {
   "cell_type": "code",
   "execution_count": null,
   "metadata": {},
   "outputs": [],
   "source": []
  },
  {
   "cell_type": "code",
   "execution_count": null,
   "metadata": {},
   "outputs": [],
   "source": []
  }
 ],
 "metadata": {
  "kernelspec": {
   "display_name": "Python 3",
   "language": "python",
   "name": "python3"
  },
  "language_info": {
   "codemirror_mode": {
    "name": "ipython",
    "version": 3
   },
   "file_extension": ".py",
   "mimetype": "text/x-python",
   "name": "python",
   "nbconvert_exporter": "python",
   "pygments_lexer": "ipython3",
   "version": "3.8.5"
  }
 },
 "nbformat": 4,
 "nbformat_minor": 2
}
